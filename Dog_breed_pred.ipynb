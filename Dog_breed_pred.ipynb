{
  "nbformat": 4,
  "nbformat_minor": 0,
  "metadata": {
    "colab": {
      "name": "Dog_breed_pred.ipynb",
      "provenance": [],
      "include_colab_link": true
    },
    "kernelspec": {
      "name": "python3",
      "display_name": "Python 3"
    },
    "language_info": {
      "name": "python"
    }
  },
  "cells": [
    {
      "cell_type": "markdown",
      "metadata": {
        "id": "view-in-github",
        "colab_type": "text"
      },
      "source": [
        "<a href=\"https://colab.research.google.com/github/darkamgel/Dog-Breed-Prediciton-model/blob/branch/Dog_breed_pred.ipynb\" target=\"_parent\"><img src=\"https://colab.research.google.com/assets/colab-badge.svg\" alt=\"Open In Colab\"/></a>"
      ]
    },
    {
      "cell_type": "markdown",
      "source": [
        "# Using Transfer Learning and TensorFlow 2.0 to Classify Different Dog Breeds\n",
        "\n",
        "To do this, we'll be using data from the [Kaggle dog breed identification competition](https://www.kaggle.com/c/dog-breed-identification/overview). It consists of a collection of 10,000+ labelled images of 120 different dog breeds.\n",
        "\n",
        "This kind of problem is called multi-class image classification. It's multi-class because we're trying to classify mutliple different breeds of dog. If we were only trying to classify dogs versus cats, it would be called binary classification (one thing versus another).\n",
        "\n",
        "Multi-class image classification is an important problem because it's the same kind of technology Tesla uses in their self-driving cars or Airbnb uses in atuomatically adding information to their listings.\n",
        "\n",
        "Since the most important step in a deep learng problem is getting the data ready (turning it into numbers), that's what we're going to start with.\n",
        "\n",
        "We're going to go through the following TensorFlow/Deep Learning workflow:\n",
        "1. Get data ready (download from Kaggle, store, import).\n",
        "2. Prepare the data (preprocessing, the 3 sets, X & y).\n",
        "3. Choose and fit/train a model ([TensorFlow Hub](https://www.tensorflow.org/hub), `tf.keras.applications`, [TensorBoard](https://www.tensorflow.org/tensorboard), [EarlyStopping](https://www.tensorflow.org/api_docs/python/tf/keras/callbacks/EarlyStopping)).\n",
        "4. Evaluating a model (making predictions, comparing them with the ground truth labels).\n",
        "5. Improve the model through experimentation (start with 1000 images, make sure it works, increase the number of images).\n",
        "6. Save, sharing and reloading your model (once you're happy with the results)\n",
        "\n",
        "For preprocessing our data, we're going to use TensorFlow 2.x. The whole premise here is to get our data into Tensors (arrays of numbers which can be run on GPUs) and then allow a machine learning model to find patterns between them.\n",
        "\n",
        "For our machine learning model, we're going to be using a pretrained deep learning model from TensorFlow Hub. \n",
        "\n",
        "The process of using a pretrained model and adapting it to your own problem is called **transfer learning**. We do this because rather than train our own model from scratch (could be timely and expensive), we leverage the patterns of another model which has been trained to classify images.\n",
        "\n"
      ],
      "metadata": {
        "id": "fYF3RLvVgy_E"
      }
    },
    {
      "cell_type": "markdown",
      "source": [
        "## Getting our workspace ready\n",
        "\n",
        "Before we get started, since we'll be using TensorFlow 2.x and TensorFlow Hub (TensorFlow Hub), let's import them."
      ],
      "metadata": {
        "id": "vKZAd1uFhP0d"
      }
    },
    {
      "cell_type": "code",
      "execution_count": null,
      "metadata": {
        "colab": {
          "base_uri": "https://localhost:8080/"
        },
        "id": "kRemYhtffnbM",
        "outputId": "07a774e1-cdd2-493b-8187-ced12c361887"
      },
      "outputs": [
        {
          "output_type": "stream",
          "name": "stdout",
          "text": [
            "Colab only includes TensorFlow 2.x; %tensorflow_version has no effect.\n"
          ]
        }
      ],
      "source": [
        "# Import TF 2.x\n",
        "try:\n",
        "  # %tensorflow_version only exists in Colab\n",
        "  %tensorflow_version 2.x\n",
        "except Exception:\n",
        "  pass"
      ]
    },
    {
      "cell_type": "markdown",
      "source": [
        "After restarting the runtime and rerunning the cell above, it tells us TensorFlow 2.x is selected.\n",
        "\n",
        "**NOTE:** You may not need to do the above steps in the future when TensorFlow 2.x becomes the default in Colab.\n",
        "\n",
        "Let's rerun some import statements. And check whether or not we're using a GPU."
      ],
      "metadata": {
        "id": "PmhE9KHchhrr"
      }
    },
    {
      "cell_type": "code",
      "source": [
        "import tensorflow as tf\n",
        "import tensorflow_hub as hub\n",
        "\n",
        "print(\"TF version:\", tf.__version__)\n",
        "print(\"Hub version:\", hub.__version__)\n",
        "\n",
        "# Check for GPU\n",
        "print(\"GPU\", \"available (YESS!!!!)\" if tf.config.list_physical_devices(\"GPU\") else \"not available :(\")"
      ],
      "metadata": {
        "colab": {
          "base_uri": "https://localhost:8080/"
        },
        "id": "V6t6u4PzhTM9",
        "outputId": "23dc8a90-a32a-43ed-ce32-17fcf6fd194e"
      },
      "execution_count": null,
      "outputs": [
        {
          "output_type": "stream",
          "name": "stdout",
          "text": [
            "TF version: 2.8.2\n",
            "Hub version: 0.12.0\n",
            "GPU not available :(\n"
          ]
        }
      ]
    },
    {
      "cell_type": "code",
      "source": [
        "print"
      ],
      "metadata": {
        "id": "xc9389olhfNj"
      },
      "execution_count": null,
      "outputs": []
    }
  ]
}